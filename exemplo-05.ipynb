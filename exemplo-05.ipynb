{
 "cells": [
  {
   "cell_type": "markdown",
   "metadata": {},
   "source": [
    "Neste exemplos vamos trabalhar com <b>Regressão Linear</b> para  variaveis <br>\n",
    "dependentes e independentes com valores ficticios "
   ]
  },
  {
   "cell_type": "markdown",
   "metadata": {},
   "source": [
    "Primeiro vamos importar todas as bibliotecas necessárias"
   ]
  },
  {
   "cell_type": "code",
   "execution_count": 1,
   "metadata": {},
   "outputs": [],
   "source": [
    "import pandas as pd\n",
    "import statsmodels.api as sm\n",
    "from sklearn.linear_model import LinearRegression\n",
    "import matplotlib.pyplot as plt"
   ]
  },
  {
   "cell_type": "markdown",
   "metadata": {},
   "source": [
    "Criando a base de dados"
   ]
  },
  {
   "cell_type": "code",
   "execution_count": 2,
   "metadata": {},
   "outputs": [],
   "source": [
    "x1 = [1, 2, 3, 4, 5, 6, 7]\n",
    "x2 = [4, 6, 9, 18, 20, 30, 40]\n",
    "y = [6, 6, 7, 12, 15, 22, 50]"
   ]
  },
  {
   "cell_type": "markdown",
   "metadata": {},
   "source": [
    "Montando o DataFrame"
   ]
  },
  {
   "cell_type": "code",
   "execution_count": 3,
   "metadata": {},
   "outputs": [
    {
     "name": "stdout",
     "output_type": "stream",
     "text": [
      "   x1  x2   y\n",
      "0   1   4   6\n",
      "1   2   6   6\n",
      "2   3   9   7\n",
      "3   4  18  12\n",
      "4   5  20  15\n",
      "5   6  30  22\n",
      "6   7  40  50\n"
     ]
    }
   ],
   "source": [
    "df = pd.DataFrame({\n",
    "    'x1': x1,\n",
    "    'x2': x2,\n",
    "    'y': y\n",
    "})\n",
    "\n",
    "print(df)"
   ]
  },
  {
   "cell_type": "markdown",
   "metadata": {},
   "source": [
    "Agora vamos ajustar o modelo de <b>Regressão Linear</b> com a biblioteca <b>Statsmodels</b> e em seguida exibir o sumário do modelo"
   ]
  },
  {
   "cell_type": "code",
   "execution_count": 4,
   "metadata": {},
   "outputs": [
    {
     "name": "stdout",
     "output_type": "stream",
     "text": [
      "   const  x1  x2\n",
      "0    1.0   1   4\n",
      "1    1.0   2   6\n",
      "2    1.0   3   9\n",
      "3    1.0   4  18\n",
      "4    1.0   5  20\n",
      "5    1.0   6  30\n",
      "6    1.0   7  40\n",
      "                            OLS Regression Results                            \n",
      "==============================================================================\n",
      "Dep. Variable:                      y   R-squared:                       0.919\n",
      "Model:                            OLS   Adj. R-squared:                  0.878\n",
      "Method:                 Least Squares   F-statistic:                     22.68\n",
      "Date:                Mon, 20 May 2024   Prob (F-statistic):            0.00657\n",
      "Time:                        11:01:20   Log-Likelihood:                -19.887\n",
      "No. Observations:                   7   AIC:                             45.77\n",
      "Df Residuals:                       4   BIC:                             45.61\n",
      "Df Model:                           2                                         \n",
      "Covariance Type:            nonrobust                                         \n",
      "==============================================================================\n",
      "                 coef    std err          t      P>|t|      [0.025      0.975]\n",
      "------------------------------------------------------------------------------\n",
      "const          5.5891      6.226      0.898      0.420     -11.698      22.877\n",
      "x1            -7.7426      4.461     -1.735      0.158     -20.129       4.644\n",
      "x2             2.3281      0.728      3.200      0.033       0.308       4.348\n",
      "==============================================================================\n",
      "Omnibus:                          nan   Durbin-Watson:                   2.870\n",
      "Prob(Omnibus):                    nan   Jarque-Bera (JB):                0.564\n",
      "Skew:                          -0.416   Prob(JB):                        0.754\n",
      "Kurtosis:                       1.886   Cond. No.                         79.2\n",
      "==============================================================================\n",
      "\n",
      "Notes:\n",
      "[1] Standard Errors assume that the covariance matrix of the errors is correctly specified.\n"
     ]
    },
    {
     "name": "stderr",
     "output_type": "stream",
     "text": [
      "c:\\Users\\muril\\AppData\\Local\\Programs\\Python\\Python312\\Lib\\site-packages\\statsmodels\\stats\\stattools.py:74: ValueWarning: omni_normtest is not valid with less than 8 observations; 7 samples were given.\n",
      "  warn(\"omni_normtest is not valid with less than 8 observations; %i \"\n"
     ]
    }
   ],
   "source": [
    "X = sm.add_constant(df[['x1', 'x2']])\n",
    "print(X)\n",
    "\n",
    "model = sm.OLS(df['y'], X).fit()\n",
    "print(model.summary())"
   ]
  },
  {
   "cell_type": "markdown",
   "metadata": {},
   "source": [
    "Agora vamos ao que interessa, que e fazer uma previsão com o modelo usando os dados independentes e para isso vamos usar a biblioteca <b>Scikit-Learn</b>"
   ]
  },
  {
   "cell_type": "code",
   "execution_count": 5,
   "metadata": {},
   "outputs": [
    {
     "name": "stdout",
     "output_type": "stream",
     "text": [
      "[ 7.15892969  4.07255096  3.31426776 16.52455778 13.43817904 28.9765646\n",
      " 44.51495017]\n"
     ]
    }
   ],
   "source": [
    "model_sk = LinearRegression().fit(X, df)\n",
    "y_pred = model_sk.predict(X)\n",
    "y_pred = y_pred[:,2]\n",
    "print(y_pred)"
   ]
  },
  {
   "cell_type": "markdown",
   "metadata": {},
   "source": [
    "E por fim vamos usar o <b>Pyplot</b> para plotar um grafico exibindo o esperado e a predição"
   ]
  },
  {
   "cell_type": "code",
   "execution_count": 6,
   "metadata": {},
   "outputs": [
    {
     "name": "stdout",
     "output_type": "stream",
     "text": [
      "Predição: [ 7.15892969  4.07255096  3.31426776 16.52455778 13.43817904 28.9765646\n",
      " 44.51495017]\n",
      "Valor Real: [6, 6, 7, 12, 15, 22, 50]\n"
     ]
    },
    {
     "data": {
      "image/png": "[encoded data removed]",
      "text/plain": [
       "<Figure size 640x480 with 1 Axes>"
      ]
     },
     "metadata": {},
     "output_type": "display_data"
    },
    {
     "ename": "",
     "evalue": "",
     "output_type": "error",
     "traceback": [
      "\u001b[1;31mThe Kernel crashed while executing code in the current cell or a previous cell. \n",
      "\u001b[1;31mPlease review the code in the cell(s) to identify a possible cause of the failure. \n",
      "\u001b[1;31mClick <a href='https://aka.ms/vscodeJupyterKernelCrash'>here</a> for more info. \n",
      "\u001b[1;31mView Jupyter <a href='command:jupyter.viewOutput'>log</a> for further details."
     ]
    }
   ],
   "source": [
    "\n",
    "print(f'Predição: {y_pred}')\n",
    "print(f'Valor Real: {y}')\n",
    "\n",
    "plt.scatter(x1, y, label='y')\n",
    "plt.scatter(x1, y_pred, label='y_pred')\n",
    "plt.legend()\n",
    "plt.show()"
   ]
  }
 ],
 "metadata": {
  "kernelspec": {
   "display_name": "Python 3",
   "language": "python",
   "name": "python3"
  },
  "language_info": {
   "codemirror_mode": {
    "name": "ipython",
    "version": 3
   },
   "file_extension": ".py",
   "mimetype": "text/x-python",
   "name": "python",
   "nbconvert_exporter": "python",
   "pygments_lexer": "ipython3",
   "version": "3.12.3"
  }
 },
 "nbformat": 4,
 "nbformat_minor": 2
}
